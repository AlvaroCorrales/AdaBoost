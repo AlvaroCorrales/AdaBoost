{
 "metadata": {
  "language_info": {
   "codemirror_mode": {
    "name": "ipython",
    "version": 3
   },
   "file_extension": ".py",
   "mimetype": "text/x-python",
   "name": "python",
   "nbconvert_exporter": "python",
   "pygments_lexer": "ipython3",
   "version": "3.7.4"
  },
  "orig_nbformat": 2,
  "kernelspec": {
   "name": "python374jvsc74a57bd0dca0ade3e726a953b501b15e8e990130d2b7799f14cfd9f4271676035ebe5511",
   "display_name": "Python 3.7.4 64-bit ('base': conda)"
  }
 },
 "nbformat": 4,
 "nbformat_minor": 2,
 "cells": [
  {
   "source": [
    "## Implementing AdaBoost Classifier from scratch\n",
    "#### Álvaro Corrales Cano\n",
    "#### April 2021 - work in progress"
   ],
   "cell_type": "markdown",
   "metadata": {}
  },
  {
   "cell_type": "code",
   "execution_count": 45,
   "metadata": {},
   "outputs": [],
   "source": [
    "# Imports\n",
    "import numpy as np\n",
    "import pandas as pd\n",
    "from sklearn.datasets import make_classification\n",
    "from sklearn.metrics import roc_auc_score\n",
    "from sklearn.model_selection import train_test_split\n",
    "from AdaBoost import *\n",
    "from sklearn.ensemble import AdaBoostClassifier\n"
   ]
  },
  {
   "source": [
    "### Our model"
   ],
   "cell_type": "markdown",
   "metadata": {}
  },
  {
   "cell_type": "code",
   "execution_count": 46,
   "metadata": {},
   "outputs": [],
   "source": [
    "# Generate classification dataset\n",
    "X, y = make_classification(n_samples= 1000, n_features = 20, random_state = 42)\n",
    "y = y * 2 - 1       # Original AdaBoost uses {1, -1} as class labels\n",
    "\n",
    "# Train/test split\n",
    "X_train, X_test, y_train, y_test = train_test_split(X, y, test_size = 0.2, random_state = 42)"
   ]
  },
  {
   "cell_type": "code",
   "execution_count": 51,
   "metadata": {},
   "outputs": [
    {
     "output_type": "stream",
     "name": "stdout",
     "text": [
      "The ROC-AUC score of the model is: 0.8593\n"
     ]
    }
   ],
   "source": [
    "# Fit model\n",
    "ab = AdaBoost()\n",
    "ab.fit(X_train, y_train, M = 400)\n",
    "\n",
    "# Predict on test set\n",
    "y_pred = ab.predict(X_test)\n",
    "print('The ROC-AUC score of the model is:', round(roc_auc_score(y_test, y_pred), 4))"
   ]
  },
  {
   "source": [
    "### Scikit-Learn implementation of AdaBoost"
   ],
   "cell_type": "markdown",
   "metadata": {}
  },
  {
   "cell_type": "code",
   "execution_count": 52,
   "metadata": {},
   "outputs": [
    {
     "output_type": "stream",
     "name": "stdout",
     "text": [
      "The ROC-AUC score of the model is: 0.8427\n"
     ]
    }
   ],
   "source": [
    "ab_sk = AdaBoostClassifier(n_estimators = 400) # Same boosting rounds (M) as in our model\n",
    "ab_sk.fit(X_train, y_train)\n",
    "y_pred_sk = ab_sk.predict(X_test)\n",
    "print('The ROC-AUC score of the model is:', round(roc_auc_score(y_test, y_pred_sk), 4))"
   ]
  },
  {
   "source": [
    "Our custom model has a ROC-AUC score that's comparable to the Scikit-Learn implementation of AdaBoost. The Scikit-Learn implementation uses a different boosting algorithm, so our results are not exactly the same."
   ],
   "cell_type": "markdown",
   "metadata": {}
  },
  {
   "cell_type": "code",
   "execution_count": null,
   "metadata": {},
   "outputs": [],
   "source": []
  }
 ]
}