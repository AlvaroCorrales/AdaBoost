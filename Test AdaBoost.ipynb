{
 "metadata": {
  "language_info": {
   "codemirror_mode": {
    "name": "ipython",
    "version": 3
   },
   "file_extension": ".py",
   "mimetype": "text/x-python",
   "name": "python",
   "nbconvert_exporter": "python",
   "pygments_lexer": "ipython3",
   "version": "3.7.4"
  },
  "orig_nbformat": 2,
  "kernelspec": {
   "name": "python374jvsc74a57bd0dca0ade3e726a953b501b15e8e990130d2b7799f14cfd9f4271676035ebe5511",
   "display_name": "Python 3.7.4 64-bit ('base': conda)"
  }
 },
 "nbformat": 4,
 "nbformat_minor": 2,
 "cells": [
  {
   "source": [
    "# Implementing AdaBoost Classifier from scratch\n",
    "### Álvaro Corrales Cano\n",
    "### April 2021 - work in progress"
   ],
   "cell_type": "markdown",
   "metadata": {}
  },
  {
   "cell_type": "code",
   "execution_count": 1,
   "metadata": {},
   "outputs": [],
   "source": [
    "# Imports\n",
    "import numpy as np\n",
    "import pandas as pd\n",
    "from sklearn.datasets import make_classification\n",
    "from sklearn.metrics import roc_auc_score\n",
    "from sklearn.model_selection import train_test_split\n",
    "from AdaBoost import *\n",
    "from sklearn.ensemble import AdaBoostClassifier\n"
   ]
  },
  {
   "source": [
    "## Synthetic dataset\n"
   ],
   "cell_type": "markdown",
   "metadata": {}
  },
  {
   "cell_type": "code",
   "execution_count": 7,
   "metadata": {},
   "outputs": [],
   "source": [
    "# Generate classification dataset\n",
    "X, y = make_classification(n_samples= 1000, n_features = 20, random_state = 42)\n",
    "y = y * 2 - 1       # Original AdaBoost uses {1, -1} as class labels\n",
    "\n",
    "# Train/test split\n",
    "X_train, X_test, y_train, y_test = train_test_split(X, y, test_size = 0.2, random_state = 42)"
   ]
  },
  {
   "source": [
    "### Custom implementation"
   ],
   "cell_type": "markdown",
   "metadata": {}
  },
  {
   "cell_type": "code",
   "execution_count": 8,
   "metadata": {},
   "outputs": [
    {
     "output_type": "stream",
     "name": "stdout",
     "text": [
      "The ROC-AUC score of the model is: 0.8621\n"
     ]
    }
   ],
   "source": [
    "# Fit model\n",
    "ab = AdaBoost()\n",
    "ab.fit(X_train, y_train, M = 400)\n",
    "\n",
    "# Predict on test set\n",
    "y_pred = ab.predict(X_test)\n",
    "print('The ROC-AUC score of the model is:', round(roc_auc_score(y_test, y_pred), 4))"
   ]
  },
  {
   "source": [
    "### Scikit-Learn implementation of AdaBoost"
   ],
   "cell_type": "markdown",
   "metadata": {}
  },
  {
   "cell_type": "code",
   "execution_count": 9,
   "metadata": {},
   "outputs": [
    {
     "output_type": "stream",
     "name": "stdout",
     "text": [
      "The ROC-AUC score of the model is: 0.8427\n"
     ]
    }
   ],
   "source": [
    "ab_sk = AdaBoostClassifier(n_estimators = 400) # Same boosting rounds (M) as in our model\n",
    "ab_sk.fit(X_train, y_train)\n",
    "y_pred_sk = ab_sk.predict(X_test)\n",
    "print('The ROC-AUC score of the model is:', round(roc_auc_score(y_test, y_pred_sk), 4))"
   ]
  },
  {
   "source": [
    "Our custom model has a ROC-AUC score that's comparable to the Scikit-Learn implementation of AdaBoost. The Scikit-Learn implementation uses a different boosting algorithm, so our results are not exactly the same."
   ],
   "cell_type": "markdown",
   "metadata": {}
  },
  {
   "source": [
    "## Real dataset\n",
    "\n",
    "Dataset containing 4601 emails that are labeled as either spam or not. Features are mostly word and symbol frequencies. The data is publicly available at the University of California, Irvine's Machine Learning repository and was donated by George Forman from HP Laboratories. It can be downloaded in this [link](http://archive.ics.uci.edu/ml/datasets/Spambase)."
   ],
   "cell_type": "markdown",
   "metadata": {}
  },
  {
   "source": [
    "# Dataset\n",
    "df = pd.read_csv('./spambase/spambase.data', header = None)\n",
    "\n",
    "# Column names\n",
    "names = pd.read_csv('./spambase/spambase.names', sep = ':', skiprows=range(0, 33), header = None)\n",
    "col_names = list(names[0])\n",
    "col_names.append('Spam')\n",
    "\n",
    "# Rename df columns\n",
    "df.columns = col_names\n",
    "\n",
    "# Convert classes in target variable to {-1, 1}\n",
    "df['Spam'] = df['Spam'] * 2 - 1\n",
    "\n",
    "print('Shape of data:', df.shape)\n",
    "df.tail()"
   ],
   "cell_type": "markdown",
   "metadata": {}
  },
  {
   "cell_type": "code",
   "execution_count": 27,
   "metadata": {},
   "outputs": [],
   "source": [
    "# Train - test split\n",
    "X_train, X_test, y_train, y_test = train_test_split(df.drop(columns = 'Spam').values, df['Spam'].values, train_size = 0.8, random_state = 2)"
   ]
  },
  {
   "cell_type": "code",
   "execution_count": 15,
   "metadata": {},
   "outputs": [
    {
     "output_type": "stream",
     "name": "stdout",
     "text": [
      "Shape of data: (4601, 58)\n"
     ]
    },
    {
     "output_type": "execute_result",
     "data": {
      "text/plain": [
       "      word_freq_make  word_freq_address  word_freq_all  word_freq_3d  \\\n",
       "4596            0.31                0.0           0.62           0.0   \n",
       "4597            0.00                0.0           0.00           0.0   \n",
       "4598            0.30                0.0           0.30           0.0   \n",
       "4599            0.96                0.0           0.00           0.0   \n",
       "4600            0.00                0.0           0.65           0.0   \n",
       "\n",
       "      word_freq_our  word_freq_over  word_freq_remove  word_freq_internet  \\\n",
       "4596           0.00            0.31               0.0                 0.0   \n",
       "4597           0.00            0.00               0.0                 0.0   \n",
       "4598           0.00            0.00               0.0                 0.0   \n",
       "4599           0.32            0.00               0.0                 0.0   \n",
       "4600           0.00            0.00               0.0                 0.0   \n",
       "\n",
       "      word_freq_order  word_freq_mail  ...  char_freq_;  char_freq_(  \\\n",
       "4596              0.0             0.0  ...        0.000        0.232   \n",
       "4597              0.0             0.0  ...        0.000        0.000   \n",
       "4598              0.0             0.0  ...        0.102        0.718   \n",
       "4599              0.0             0.0  ...        0.000        0.057   \n",
       "4600              0.0             0.0  ...        0.000        0.000   \n",
       "\n",
       "      char_freq_[  char_freq_!  char_freq_$  char_freq_#  \\\n",
       "4596          0.0        0.000          0.0          0.0   \n",
       "4597          0.0        0.353          0.0          0.0   \n",
       "4598          0.0        0.000          0.0          0.0   \n",
       "4599          0.0        0.000          0.0          0.0   \n",
       "4600          0.0        0.125          0.0          0.0   \n",
       "\n",
       "      capital_run_length_average  capital_run_length_longest  \\\n",
       "4596                       1.142                           3   \n",
       "4597                       1.555                           4   \n",
       "4598                       1.404                           6   \n",
       "4599                       1.147                           5   \n",
       "4600                       1.250                           5   \n",
       "\n",
       "      capital_run_length_total  Spam  \n",
       "4596                        88    -1  \n",
       "4597                        14    -1  \n",
       "4598                       118    -1  \n",
       "4599                        78    -1  \n",
       "4600                        40    -1  \n",
       "\n",
       "[5 rows x 58 columns]"
      ],
      "text/html": "<div>\n<style scoped>\n    .dataframe tbody tr th:only-of-type {\n        vertical-align: middle;\n    }\n\n    .dataframe tbody tr th {\n        vertical-align: top;\n    }\n\n    .dataframe thead th {\n        text-align: right;\n    }\n</style>\n<table border=\"1\" class=\"dataframe\">\n  <thead>\n    <tr style=\"text-align: right;\">\n      <th></th>\n      <th>word_freq_make</th>\n      <th>word_freq_address</th>\n      <th>word_freq_all</th>\n      <th>word_freq_3d</th>\n      <th>word_freq_our</th>\n      <th>word_freq_over</th>\n      <th>word_freq_remove</th>\n      <th>word_freq_internet</th>\n      <th>word_freq_order</th>\n      <th>word_freq_mail</th>\n      <th>...</th>\n      <th>char_freq_;</th>\n      <th>char_freq_(</th>\n      <th>char_freq_[</th>\n      <th>char_freq_!</th>\n      <th>char_freq_$</th>\n      <th>char_freq_#</th>\n      <th>capital_run_length_average</th>\n      <th>capital_run_length_longest</th>\n      <th>capital_run_length_total</th>\n      <th>Spam</th>\n    </tr>\n  </thead>\n  <tbody>\n    <tr>\n      <td>4596</td>\n      <td>0.31</td>\n      <td>0.0</td>\n      <td>0.62</td>\n      <td>0.0</td>\n      <td>0.00</td>\n      <td>0.31</td>\n      <td>0.0</td>\n      <td>0.0</td>\n      <td>0.0</td>\n      <td>0.0</td>\n      <td>...</td>\n      <td>0.000</td>\n      <td>0.232</td>\n      <td>0.0</td>\n      <td>0.000</td>\n      <td>0.0</td>\n      <td>0.0</td>\n      <td>1.142</td>\n      <td>3</td>\n      <td>88</td>\n      <td>-1</td>\n    </tr>\n    <tr>\n      <td>4597</td>\n      <td>0.00</td>\n      <td>0.0</td>\n      <td>0.00</td>\n      <td>0.0</td>\n      <td>0.00</td>\n      <td>0.00</td>\n      <td>0.0</td>\n      <td>0.0</td>\n      <td>0.0</td>\n      <td>0.0</td>\n      <td>...</td>\n      <td>0.000</td>\n      <td>0.000</td>\n      <td>0.0</td>\n      <td>0.353</td>\n      <td>0.0</td>\n      <td>0.0</td>\n      <td>1.555</td>\n      <td>4</td>\n      <td>14</td>\n      <td>-1</td>\n    </tr>\n    <tr>\n      <td>4598</td>\n      <td>0.30</td>\n      <td>0.0</td>\n      <td>0.30</td>\n      <td>0.0</td>\n      <td>0.00</td>\n      <td>0.00</td>\n      <td>0.0</td>\n      <td>0.0</td>\n      <td>0.0</td>\n      <td>0.0</td>\n      <td>...</td>\n      <td>0.102</td>\n      <td>0.718</td>\n      <td>0.0</td>\n      <td>0.000</td>\n      <td>0.0</td>\n      <td>0.0</td>\n      <td>1.404</td>\n      <td>6</td>\n      <td>118</td>\n      <td>-1</td>\n    </tr>\n    <tr>\n      <td>4599</td>\n      <td>0.96</td>\n      <td>0.0</td>\n      <td>0.00</td>\n      <td>0.0</td>\n      <td>0.32</td>\n      <td>0.00</td>\n      <td>0.0</td>\n      <td>0.0</td>\n      <td>0.0</td>\n      <td>0.0</td>\n      <td>...</td>\n      <td>0.000</td>\n      <td>0.057</td>\n      <td>0.0</td>\n      <td>0.000</td>\n      <td>0.0</td>\n      <td>0.0</td>\n      <td>1.147</td>\n      <td>5</td>\n      <td>78</td>\n      <td>-1</td>\n    </tr>\n    <tr>\n      <td>4600</td>\n      <td>0.00</td>\n      <td>0.0</td>\n      <td>0.65</td>\n      <td>0.0</td>\n      <td>0.00</td>\n      <td>0.00</td>\n      <td>0.0</td>\n      <td>0.0</td>\n      <td>0.0</td>\n      <td>0.0</td>\n      <td>...</td>\n      <td>0.000</td>\n      <td>0.000</td>\n      <td>0.0</td>\n      <td>0.125</td>\n      <td>0.0</td>\n      <td>0.0</td>\n      <td>1.250</td>\n      <td>5</td>\n      <td>40</td>\n      <td>-1</td>\n    </tr>\n  </tbody>\n</table>\n<p>5 rows × 58 columns</p>\n</div>"
     },
     "metadata": {},
     "execution_count": 15
    }
   ],
   "source": [
    "### Custom implementation"
   ]
  },
  {
   "cell_type": "code",
   "execution_count": 28,
   "metadata": {},
   "outputs": [
    {
     "output_type": "stream",
     "name": "stdout",
     "text": [
      "The ROC-AUC score of the model is: 0.9386\n"
     ]
    }
   ],
   "source": [
    "# Fit model\n",
    "ab = AdaBoost()\n",
    "ab.fit(X_train, y_train, M = 400)\n",
    "\n",
    "# Predict on test set\n",
    "y_pred = ab.predict(X_test)\n",
    "print('The ROC-AUC score of the model is:', round(roc_auc_score(y_test, y_pred), 4))"
   ]
  },
  {
   "source": [
    "### Scikit-Learn implementation of AdaBoost"
   ],
   "cell_type": "markdown",
   "metadata": {}
  },
  {
   "cell_type": "code",
   "execution_count": 29,
   "metadata": {},
   "outputs": [
    {
     "output_type": "stream",
     "name": "stdout",
     "text": [
      "The ROC-AUC score of the model is: 0.9358\n"
     ]
    }
   ],
   "source": [
    "ab_sk = AdaBoostClassifier(n_estimators = 400) # Same boosting rounds (M) as in our model\n",
    "ab_sk.fit(X_train, y_train)\n",
    "y_pred_sk = ab_sk.predict(X_test)\n",
    "print('The ROC-AUC score of the model is:', round(roc_auc_score(y_test, y_pred_sk), 4))"
   ]
  }
 ]
}